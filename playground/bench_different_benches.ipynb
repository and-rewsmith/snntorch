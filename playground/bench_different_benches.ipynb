{
 "cells": [
  {
   "cell_type": "markdown",
   "metadata": {},
   "source": [
    "## Benchmarking\n",
    "\n",
    "Below we benchmark simple timing of leaky, StateLeaky, and LinearLeaky."
   ]
  },
  {
   "cell_type": "code",
   "execution_count": 1,
   "metadata": {},
   "outputs": [],
   "source": [
    "# dims used for the benchmark of:\n",
    "# - Leaky\n",
    "# - StateLeaky\n",
    "# - LinearLeaky\n",
    "\n",
    "timesteps = 2000\n",
    "batch = 64\n",
    "channels = 1000\n"
   ]
  },
  {
   "cell_type": "code",
   "execution_count": 2,
   "metadata": {},
   "outputs": [
    {
     "name": "stdout",
     "output_type": "stream",
     "text": [
      "0.2123429775238037\n"
     ]
    }
   ],
   "source": [
    "# benchmark Leaky\n",
    "\n",
    "import torch\n",
    "import time\n",
    "import snntorch as snn\n",
    "\n",
    "lif = snn.Leaky(beta=0.9)\n",
    "lif = lif.to('cuda')\n",
    "\n",
    "x = torch.rand(timesteps, batch, channels).to('cuda')\n",
    "mem = torch.zeros(batch, channels).to('cuda')\n",
    "spk = torch.zeros(batch, channels).to('cuda')\n",
    "\n",
    "start_time = time.time()\n",
    "for step in range(timesteps):\n",
    "  spk, mem = lif(x[step], mem=mem)\n",
    "end_time = time.time()\n",
    "\n",
    "print(f\"{end_time-start_time}\")"
   ]
  },
  {
   "cell_type": "code",
   "execution_count": 3,
   "metadata": {},
   "outputs": [
    {
     "name": "stdout",
     "output_type": "stream",
     "text": [
      "0.00093841552734375\n"
     ]
    }
   ],
   "source": [
    "# benchmark StateLeaky\n",
    "\n",
    "import torch\n",
    "import time\n",
    "from snntorch._neurons.stateleaky import StateLeaky\n",
    "\n",
    "layer = StateLeaky(beta=0.9, channels=channels).to('cuda')\n",
    "\n",
    "# warmup\n",
    "input_ = torch.arange(1, timesteps * batch * channels + 1).float().view(timesteps, batch, channels).to('cuda')\n",
    "layer.forward(input_)\n",
    "\n",
    "# timing\n",
    "input_ = torch.arange(1, timesteps * batch * channels + 1).float().view(timesteps, batch, channels).to('cuda')\n",
    "input_ = torch.rand_like(input_)\n",
    "start_time = time.time()\n",
    "layer.forward(input_)\n",
    "end_time = time.time()\n",
    "\n",
    "print(f\"{end_time-start_time}\")"
   ]
  },
  {
   "cell_type": "code",
   "execution_count": 4,
   "metadata": {},
   "outputs": [
    {
     "name": "stdout",
     "output_type": "stream",
     "text": [
      "0.008168220520019531\n"
     ]
    }
   ],
   "source": [
    "# benchmark LinearLeaky\n",
    "\n",
    "import torch\n",
    "import time\n",
    "import snntorch as snn\n",
    "\n",
    "timesteps = 2000\n",
    "batch = 64\n",
    "channels = 1000\n",
    "\n",
    "layer = snn.LinearLeaky(in_features=channels, out_features=channels, beta=0.9).to('cuda')\n",
    "# lif = torch.compile(lif, mode=\"reduce-overhead\", fullgraph=True, dynamic=False)\n",
    "\n",
    "# warmup\n",
    "input_ = torch.arange(1, timesteps * batch * channels + 1).float().view(timesteps, batch, channels).to('cuda')\n",
    "layer.forward(input_)\n",
    "\n",
    "# timing\n",
    "input_ = torch.arange(1, timesteps * batch * channels + 1).float().view(timesteps, batch, channels).to('cuda')\n",
    "input_ = torch.rand_like(input_)\n",
    "start_time = time.time()\n",
    "layer.forward(input_)\n",
    "end_time = time.time()\n",
    "\n",
    "print(f\"{end_time-start_time}\")"
   ]
  },
  {
   "cell_type": "markdown",
   "metadata": {},
   "source": [
    "## Timing plot for StateLeaky vs Leaky\n",
    "\n",
    "We expect StateLeaky to be a big performance boost"
   ]
  },
  {
   "cell_type": "code",
   "execution_count": null,
   "metadata": {},
   "outputs": [
    {
     "name": "stdout",
     "output_type": "stream",
     "text": [
      "PROJECT_ROOT: /Users/kimia/Documents/GitHub/CodingSession/snntorch\n",
      "StateLeaky path exists: True\n"
     ]
    },
    {
     "ename": "ModuleNotFoundError",
     "evalue": "No module named 'snntorch._neurons.stateleaky'",
     "output_type": "error",
     "traceback": [
      "\u001b[0;31m---------------------------------------------------------------------------\u001b[0m",
      "\u001b[0;31mModuleNotFoundError\u001b[0m                       Traceback (most recent call last)",
      "Cell \u001b[0;32mIn[6], line 22\u001b[0m\n\u001b[1;32m     19\u001b[0m \u001b[38;5;28;01mimport\u001b[39;00m \u001b[38;5;21;01mmatplotlib\u001b[39;00m\u001b[38;5;21;01m.\u001b[39;00m\u001b[38;5;21;01mpyplot\u001b[39;00m \u001b[38;5;28;01mas\u001b[39;00m \u001b[38;5;21;01mplt\u001b[39;00m\n\u001b[1;32m     20\u001b[0m \u001b[38;5;28;01mfrom\u001b[39;00m \u001b[38;5;21;01mtqdm\u001b[39;00m \u001b[38;5;28;01mimport\u001b[39;00m tqdm\n\u001b[0;32m---> 22\u001b[0m \u001b[38;5;28;01mfrom\u001b[39;00m \u001b[38;5;21;01msnntorch\u001b[39;00m\u001b[38;5;21;01m.\u001b[39;00m\u001b[38;5;21;01m_neurons\u001b[39;00m\u001b[38;5;21;01m.\u001b[39;00m\u001b[38;5;21;01mstateleaky\u001b[39;00m \u001b[38;5;28;01mimport\u001b[39;00m StateLeaky\n\u001b[1;32m     24\u001b[0m BATCH_SIZE \u001b[38;5;241m=\u001b[39m \u001b[38;5;241m20\u001b[39m\n\u001b[1;32m     25\u001b[0m CHANNELS \u001b[38;5;241m=\u001b[39m \u001b[38;5;241m20\u001b[39m\n",
      "\u001b[0;31mModuleNotFoundError\u001b[0m: No module named 'snntorch._neurons.stateleaky'"
     ]
    }
   ],
   "source": [
    "# timing plot for StateLeaky vs Leaky\n",
    "\n",
    "import torch\n",
    "import time\n",
    "import snntorch as snn\n",
    "import numpy as np\n",
    "import matplotlib.pyplot as plt\n",
    "from tqdm import tqdm\n",
    "\n",
    "from snntorch._neurons.stateleaky import StateLeaky\n",
    "\n",
    "BATCH_SIZE = 20\n",
    "CHANNELS = 20\n",
    "\n",
    "if torch.cuda.is_available():\n",
    "    device = torch.device(\"cuda\")\n",
    "    print(f'Device CUDA')\n",
    "elif getattr(torch.backends, \"mps\", None) and torch.backends.mps.is_available():\n",
    "    device = torch.device(\"mps\")\n",
    "    print(f'Device MPS')\n",
    "else:\n",
    "    device = torch.device(\"cpu\")\n",
    "    print(f'Device CPU')\n",
    "\n",
    "print(f'Device {device.type}')\n",
    "\n",
    "\n",
    "def get_peak_memory(device):\n",
    "    \"\"\"Gets the peak GPU memory usage in MB.\"\"\"\n",
    "    if device.type == 'cuda':\n",
    "        return torch.cuda.max_memory_allocated(device) / 1024**2   \n",
    "    return 0\n",
    "\n",
    "def bench_type1(num_steps):\n",
    "    lif = snn.Leaky(beta=0.9).to(device)\n",
    "    x = torch.rand(num_steps).to(device)\n",
    "    mem = torch.zeros(BATCH_SIZE, CHANNELS).to(device)\n",
    "    spk = torch.zeros(BATCH_SIZE, CHANNELS).to(device)\n",
    "    \n",
    "    start_time = time.time()\n",
    "    for step in range(num_steps):\n",
    "        spk, mem = lif(x[step], mem=mem)\n",
    "    end_time = time.time()\n",
    "    \n",
    "    return end_time - start_time, get_peak_memory(device)\n",
    "\n",
    "def bench_type2(timesteps):\n",
    "    lif = StateLeaky(beta=0.9, channels=CHANNELS).to(device)\n",
    "    input_ = torch.arange(1, timesteps * BATCH_SIZE * CHANNELS + 1).float().view(timesteps, BATCH_SIZE, CHANNELS).to(device)\n",
    "    \n",
    "    start_time = time.time()\n",
    "    lif.forward(input_)\n",
    "    end_time = time.time()\n",
    "    \n",
    "    return end_time - start_time, get_peak_memory(device)\n",
    "\n",
    "# Define timesteps on log scale\n",
    "timesteps = np.logspace(1, 5, num=10, dtype=int)\n",
    "\n",
    "# Run benchmarks\n",
    "times1 = []\n",
    "times2 = []\n",
    "mems1 = []\n",
    "mems2 = []\n",
    "for steps in timesteps:\n",
    "    # Run each benchmark multiple times and take average for more stable results\n",
    "    n_runs = 2\n",
    "    time_mean1 = 0.0\n",
    "    mem_mean1 = 0.0\n",
    "    time_mean2 = 0.0\n",
    "    mem_mean2 = 0.0\n",
    "    for _ in range(n_runs):\n",
    "        time1, mem1 = bench_type1(steps)\n",
    "        time2, mem2 = bench_type2(steps)\n",
    "        time_mean1 += time1\n",
    "        time_mean2 += time2\n",
    "        mem_mean1 += mem1\n",
    "        mem_mean2 += mem2\n",
    "\n",
    "    time_mean1 /= n_runs\n",
    "    time_mean2 /= n_runs\n",
    "\n",
    "    mem_mean1 /= n_runs\n",
    "    mem_mean2 /= n_runs\n",
    "\n",
    "    times1.append(time_mean1)\n",
    "    times2.append(time_mean2)\n",
    "    mems1.append(mem_mean1)\n",
    "    mems2.append(mem_mean2)\n",
    "\n",
    "# Create the plot for time\n",
    "plt.figure(figsize=(10, 6))\n",
    "plt.plot(timesteps, times1, 'b-', label='Type 1 (Leaky)')\n",
    "plt.plot(timesteps, times2, 'r-', label='Type 2 (StateLeaky)')\n",
    "plt.xscale('log')\n",
    "plt.yscale('log')\n",
    "plt.grid(True, which=\"both\", ls=\"-\", alpha=0.2)\n",
    "plt.xlabel('Number of Timesteps')\n",
    "plt.ylabel('Time (seconds)')\n",
    "plt.title('SNN Performance Comparison')\n",
    "plt.legend()\n",
    "plt.savefig(\"snn_performance_comparison.svg\", format=\"svg\")\n",
    "\n",
    "# Print the results\n",
    "print(\"Benchmark Results:\")\n",
    "print(\"\\nTimesteps  |  Leaky (s)  |  Linear Leaky (s)  |  Ratio (T2/T1)\")\n",
    "print(\"-\" * 55)\n",
    "for i, steps in enumerate(timesteps):\n",
    "    ratio = times2[i] / times1[i]\n",
    "    print(f\"{steps:9d} | {times1[i]:10.4f} | {times2[i]:10.4f} | {ratio:10.2f}\")\n",
    "\n",
    "plt.show()"
   ]
  },
  {
   "cell_type": "markdown",
   "metadata": {},
   "source": [
    "## Training an SNN LLM using StateLeaky\n",
    "\n",
    "Proving that we can utilize StateLeaky for efficient learning"
   ]
  },
  {
   "cell_type": "code",
   "execution_count": 6,
   "metadata": {},
   "outputs": [
    {
     "name": "stderr",
     "output_type": "stream",
     "text": [
      "/home/localuser/Documents/projects/snntorch/env/lib/python3.11/site-packages/tqdm/auto.py:21: TqdmWarning: IProgress not found. Please update jupyter and ipywidgets. See https://ipywidgets.readthedocs.io/en/stable/user_install.html\n",
      "  from .autonotebook import tqdm as notebook_tqdm\n"
     ]
    },
    {
     "name": "stdout",
     "output_type": "stream",
     "text": [
      "Device:  cuda\n",
      "initialized tokenizer\n"
     ]
    },
    {
     "name": "stderr",
     "output_type": "stream",
     "text": [
      "\u001b[34m\u001b[1mwandb\u001b[0m: Using wandb-core as the SDK backend.  Please refer to https://wandb.me/wandb-core for more information.\n"
     ]
    },
    {
     "name": "stdout",
     "output_type": "stream",
     "text": [
      "tokenized dataset\n"
     ]
    },
    {
     "name": "stderr",
     "output_type": "stream",
     "text": [
      "\u001b[34m\u001b[1mwandb\u001b[0m: Currently logged in as: \u001b[33mand-rewsmith\u001b[0m. Use \u001b[1m`wandb login --relogin`\u001b[0m to force relogin\n"
     ]
    },
    {
     "data": {
      "text/html": [
       "Tracking run with wandb version 0.18.7"
      ],
      "text/plain": [
       "<IPython.core.display.HTML object>"
      ]
     },
     "metadata": {},
     "output_type": "display_data"
    },
    {
     "data": {
      "text/html": [
       "Run data is saved locally in <code>/home/localuser/Documents/projects/snntorch/playground/wandb/run-20250825_113059-wit4xjc0</code>"
      ],
      "text/plain": [
       "<IPython.core.display.HTML object>"
      ]
     },
     "metadata": {},
     "output_type": "display_data"
    },
    {
     "data": {
      "text/html": [
       "Syncing run <strong><a href='https://wandb.ai/and-rewsmith/snntorch-ssm/runs/wit4xjc0' target=\"_blank\">misty-terrain-59</a></strong> to <a href='https://wandb.ai/and-rewsmith/snntorch-ssm' target=\"_blank\">Weights & Biases</a> (<a href='https://wandb.me/developer-guide' target=\"_blank\">docs</a>)<br/>"
      ],
      "text/plain": [
       "<IPython.core.display.HTML object>"
      ]
     },
     "metadata": {},
     "output_type": "display_data"
    },
    {
     "data": {
      "text/html": [
       " View project at <a href='https://wandb.ai/and-rewsmith/snntorch-ssm' target=\"_blank\">https://wandb.ai/and-rewsmith/snntorch-ssm</a>"
      ],
      "text/plain": [
       "<IPython.core.display.HTML object>"
      ]
     },
     "metadata": {},
     "output_type": "display_data"
    },
    {
     "data": {
      "text/html": [
       " View run at <a href='https://wandb.ai/and-rewsmith/snntorch-ssm/runs/wit4xjc0' target=\"_blank\">https://wandb.ai/and-rewsmith/snntorch-ssm/runs/wit4xjc0</a>"
      ],
      "text/plain": [
       "<IPython.core.display.HTML object>"
      ]
     },
     "metadata": {},
     "output_type": "display_data"
    },
    {
     "name": "stderr",
     "output_type": "stream",
     "text": [
      "Training Epoch 1:   0%|          | 62/33121 [00:06<56:42,  9.72it/s]  \n"
     ]
    },
    {
     "ename": "KeyboardInterrupt",
     "evalue": "",
     "output_type": "error",
     "traceback": [
      "\u001b[0;31m---------------------------------------------------------------------------\u001b[0m",
      "\u001b[0;31mKeyboardInterrupt\u001b[0m                         Traceback (most recent call last)",
      "Cell \u001b[0;32mIn[6], line 141\u001b[0m\n\u001b[1;32m    139\u001b[0m y \u001b[38;5;241m=\u001b[39m y\u001b[38;5;241m.\u001b[39margmax(dim\u001b[38;5;241m=\u001b[39m\u001b[38;5;241m-\u001b[39m\u001b[38;5;241m1\u001b[39m)\n\u001b[1;32m    140\u001b[0m loss \u001b[38;5;241m=\u001b[39m criterion(output\u001b[38;5;241m.\u001b[39mreshape(\u001b[38;5;241m-\u001b[39m\u001b[38;5;241m1\u001b[39m, VOCAB_SIZE), y\u001b[38;5;241m.\u001b[39mreshape(\u001b[38;5;241m-\u001b[39m\u001b[38;5;241m1\u001b[39m))  \u001b[38;5;66;03m# Compute loss\u001b[39;00m\n\u001b[0;32m--> 141\u001b[0m wandb\u001b[38;5;241m.\u001b[39mlog({\u001b[38;5;124m\"\u001b[39m\u001b[38;5;124mloss\u001b[39m\u001b[38;5;124m\"\u001b[39m: \u001b[43mloss\u001b[49m\u001b[38;5;241;43m.\u001b[39;49m\u001b[43mitem\u001b[49m\u001b[43m(\u001b[49m\u001b[43m)\u001b[49m})\n\u001b[1;32m    143\u001b[0m loss\u001b[38;5;241m.\u001b[39mbackward()\n\u001b[1;32m    144\u001b[0m optimizer\u001b[38;5;241m.\u001b[39mstep()\n",
      "\u001b[0;31mKeyboardInterrupt\u001b[0m: "
     ]
    }
   ],
   "source": [
    "# confirm we can train a simple SNN language model with StateLeaky\n",
    "\n",
    "import torch\n",
    "import torch.nn as nn\n",
    "import torch.optim as optim\n",
    "from torch.utils.data import DataLoader\n",
    "from datasets import load_dataset\n",
    "from transformers import AutoTokenizer\n",
    "from snntorch._neurons.stateleaky import StateLeaky\n",
    "from tqdm import tqdm\n",
    "import torch.nn.functional as F\n",
    "import wandb\n",
    "\n",
    "with open(\"output.txt\", \"w\") as f:\n",
    "    f.write(\"\\n\")\n",
    "\n",
    "def initialize_wandb():\n",
    "    wandb.init(project=\"snntorch-ssm\", config={\n",
    "    })\n",
    "\n",
    "# Hyperparameters\n",
    "SEQ_LENGTH = 128\n",
    "HIDDEN_DIM = 512\n",
    "LR = 1e-3\n",
    "EPOCHS = 10000\n",
    "BATCH_SIZE = 64\n",
    "LEARN_BETA = False \n",
    "\n",
    "DEVICE = \"cuda\" if torch.cuda.is_available() else \"cpu\"\n",
    "print(\"Device: \", DEVICE)\n",
    "\n",
    "# Load TinyStories dataset from Hugging Face\n",
    "dataset = load_dataset(\"roneneldan/TinyStories\", split=\"train\")\n",
    "\n",
    "\n",
    "\n",
    "# Tokenizer\n",
    "tokenizer = AutoTokenizer.from_pretrained(\"gpt2\")  # Use GPT-2 tokenizer for simplicity\n",
    "tokenizer.pad_token = tokenizer.eos_token  # Use the end-of-sequence token as padding\n",
    "\n",
    "print(\"initialized tokenizer\")\n",
    "\n",
    "VOCAB_SIZE = tokenizer.vocab_size\n",
    "\n",
    "def tokenize_fn(example):\n",
    "    tokens = tokenizer(example[\"text\"], truncation=True, max_length=SEQ_LENGTH, padding=\"max_length\")\n",
    "    return {\"input_ids\": tokens[\"input_ids\"]}\n",
    "\n",
    "tokenized_dataset = dataset.map(tokenize_fn, batched=True)\n",
    "tokenized_dataset.set_format(type=\"torch\", columns=[\"input_ids\"])\n",
    "\n",
    "print(\"tokenized dataset\")\n",
    "\n",
    "dataloader = DataLoader(tokenized_dataset, batch_size=BATCH_SIZE, shuffle=True)\n",
    "\n",
    "# NOTE: if we want to add multichannel learnable beta, helpful snippet:\n",
    "# self.lif3 = StateLeaky(beta=torch.tensor([0.9]).expand(hidden_dim), channels=hidden_dim, learn_beta=True)\n",
    "class SNNLanguageModel(nn.Module):\n",
    "    def __init__(self, vocab_size, hidden_dim):\n",
    "        super(SNNLanguageModel, self).__init__()\n",
    "        self.fc1 = nn.Linear(vocab_size, hidden_dim)\n",
    "        self.lif1 = StateLeaky(beta=0.9, channels=hidden_dim, learn_beta=LEARN_BETA)\n",
    "        self.fc2 = nn.Linear(hidden_dim, hidden_dim)\n",
    "        self.lif2 = StateLeaky(beta=0.9, channels=hidden_dim, learn_beta=LEARN_BETA)\n",
    "        self.fc3 = nn.Linear(hidden_dim, hidden_dim)\n",
    "        self.lif3 = StateLeaky(beta=0.9, channels=hidden_dim, learn_beta=LEARN_BETA)\n",
    "        self.fc4 = nn.Linear(hidden_dim, vocab_size)\n",
    "\n",
    "    def forward(self, x):\n",
    "        x = x.reshape(-1, x.shape[-1])\n",
    "\n",
    "        # input transformation\n",
    "        hidden = self.fc1(x)\n",
    "        hidden = hidden.reshape(SEQ_LENGTH-1, -1, hidden.shape[-1])\n",
    "        hidden, _ = self.lif1(hidden)\n",
    "        hidden = hidden.reshape(-1, hidden.shape[-1])\n",
    "\n",
    "        # nonlinear hidden\n",
    "        hidden = self.fc2(hidden)\n",
    "        hidden = torch.relu(hidden)\n",
    "        hidden = hidden.reshape(SEQ_LENGTH-1, -1, hidden.shape[-1])\n",
    "        hidden, _ = self.lif2(hidden)\n",
    "        hidden = hidden.reshape(-1, hidden.shape[-1])\n",
    "\n",
    "        # nonlinear hidden\n",
    "        hidden = self.fc3(hidden)\n",
    "        hidden = torch.relu(hidden)\n",
    "        hidden = hidden.reshape(SEQ_LENGTH-1, -1, hidden.shape[-1])\n",
    "        hidden, _ = self.lif3(hidden)\n",
    "        hidden = hidden.reshape(-1, hidden.shape[-1])\n",
    "\n",
    "        # output transformation\n",
    "        output = self.fc4(hidden)\n",
    "        output = output.reshape(SEQ_LENGTH-1, -1, output.shape[-1])\n",
    "        return output\n",
    "\n",
    "initialize_wandb()\n",
    "\n",
    "# Initialize model, loss, and optimizer\n",
    "model = SNNLanguageModel(VOCAB_SIZE, HIDDEN_DIM).to(DEVICE)\n",
    "criterion = nn.CrossEntropyLoss()\n",
    "optimizer = optim.AdamW(model.parameters(), lr=LR)\n",
    "\n",
    "# Training Loop\n",
    "for epoch in range(EPOCHS):\n",
    "    model.train()\n",
    "    train_loss = 0\n",
    "\n",
    "    batch_num = 0\n",
    "    for batch in tqdm(dataloader, desc=f\"Training Epoch {epoch+1}\"):\n",
    "        batch_num += 1\n",
    "        # print(\"batch num: \", batch_num)\n",
    "        x = batch[\"input_ids\"].to(DEVICE)\n",
    "\n",
    "        # process batch: one hot / teacher forcing setup / permute to (seq_length, batch, vocab_size)\n",
    "        x = F.one_hot(x, num_classes=VOCAB_SIZE).float()\n",
    "        y = x[:, 1:]  # Target: next token in the sequence\n",
    "        x = x[:, :-1]  # Input: all but the last token\n",
    "        x = x.permute(1, 0, 2)\n",
    "        y = y.permute(1, 0, 2)\n",
    "\n",
    "        optimizer.zero_grad()\n",
    "\n",
    "        output = model(x)\n",
    "\n",
    "        # print the decoding\n",
    "        if batch_num % 50 == 0:\n",
    "            output = output.permute(1, 0, 2)\n",
    "            seq_translate = torch.argmax(output[0], dim=-1)\n",
    "            assert seq_translate.shape[0] == SEQ_LENGTH-1\n",
    "            with open(\"output.txt\", \"a\") as f:\n",
    "                f.write(tokenizer.decode(seq_translate))\n",
    "                f.write(\"\\n\")\n",
    "            output = output.permute(1, 0, 2)\n",
    "\n",
    "        # assert output.shape == (SEQ_LENGTH-1, BATCH_SIZE, VOCAB_SIZE) \n",
    "        # assert y.shape == (SEQ_LENGTH-1, BATCH_SIZE, VOCAB_SIZE)\n",
    "\n",
    "        y = y.argmax(dim=-1)\n",
    "        loss = criterion(output.reshape(-1, VOCAB_SIZE), y.reshape(-1))  # Compute loss\n",
    "        wandb.log({\"loss\": loss.item()})\n",
    "\n",
    "        loss.backward()\n",
    "        optimizer.step()\n",
    "\n",
    "        train_loss += loss.item()\n",
    "\n",
    "    train_loss /= len(dataloader)\n",
    "    print(f\"Epoch {epoch+1} Training Loss: {train_loss:.4f}\")\n",
    "\n",
    "print(\"Training Complete!\")\n"
   ]
  }
 ],
 "metadata": {
  "kernelspec": {
   "display_name": "base",
   "language": "python",
   "name": "python3"
  },
  "language_info": {
   "codemirror_mode": {
    "name": "ipython",
    "version": 3
   },
   "file_extension": ".py",
   "mimetype": "text/x-python",
   "name": "python",
   "nbconvert_exporter": "python",
   "pygments_lexer": "ipython3",
   "version": "3.10.13"
  },
  "orig_nbformat": 4
 },
 "nbformat": 4,
 "nbformat_minor": 2
}
