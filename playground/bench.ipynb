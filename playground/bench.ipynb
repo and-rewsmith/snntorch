{
 "cells": [
  {
   "cell_type": "code",
   "execution_count": 9,
   "metadata": {},
   "outputs": [
    {
     "name": "stdout",
     "output_type": "stream",
     "text": [
      "2.115283250808716\n"
     ]
    }
   ],
   "source": [
    "import torch\n",
    "import time\n",
    "import snntorch as snn\n",
    "\n",
    "lif = snn.Leaky(beta=0.9)\n",
    "\n",
    "num_steps = 20000\n",
    "\n",
    "x = torch.rand(num_steps)\n",
    "mem = torch.zeros(1)\n",
    "spk = torch.zeros(1)\n",
    "\n",
    "start_time = time.time()\n",
    "for step in range(num_steps):\n",
    "  spk, mem = lif(x[step], mem=None)\n",
    "\n",
    "end_time = time.time()\n",
    "\n",
    "print(f\"{end_time-start_time}\")"
   ]
  },
  {
   "cell_type": "code",
   "execution_count": 16,
   "metadata": {},
   "outputs": [
    {
     "ename": "AttributeError",
     "evalue": "module 'snntorch._neurons' has no attribute 'linearleaky'",
     "output_type": "error",
     "traceback": [
      "\u001b[0;31m---------------------------------------------------------------------------\u001b[0m",
      "\u001b[0;31mAttributeError\u001b[0m                            Traceback (most recent call last)",
      "Cell \u001b[0;32mIn[16], line 1\u001b[0m\n\u001b[0;32m----> 1\u001b[0m lif \u001b[39m=\u001b[39m snn\u001b[39m.\u001b[39;49m_neurons\u001b[39m.\u001b[39;49mlinearleaky\u001b[39m.\u001b[39mLinearLeaky(beta\u001b[39m=\u001b[39m\u001b[39m0.9\u001b[39m)\n\u001b[1;32m      3\u001b[0m timesteps \u001b[39m=\u001b[39m \u001b[39m20000\u001b[39m\n\u001b[1;32m      4\u001b[0m batch \u001b[39m=\u001b[39m \u001b[39m1\u001b[39m\n",
      "\u001b[0;31mAttributeError\u001b[0m: module 'snntorch._neurons' has no attribute 'linearleaky'"
     ]
    }
   ],
   "source": [
    "lif = snn.LinearLeaky(beta=0.9)\n",
    "\n",
    "timesteps = 20000\n",
    "batch = 1\n",
    "channels = 1\n",
    "print(\"timesteps: \", timesteps)\n",
    "print(\"batch: \", batch)\n",
    "print(\"channels: \", channels)\n",
    "print()\n",
    "\n",
    "input_ = torch.arange(1, timesteps * batch * channels + 1).float().view(timesteps, batch, channels)\n",
    "start_time = time.time()\n",
    "lif.forward(input_)\n",
    "end_time = time.time()\n",
    "\n",
    "print(f\"{end_time-start_time}\")"
   ]
  }
 ],
 "metadata": {
  "kernelspec": {
   "display_name": "env",
   "language": "python",
   "name": "python3"
  },
  "language_info": {
   "codemirror_mode": {
    "name": "ipython",
    "version": 3
   },
   "file_extension": ".py",
   "mimetype": "text/x-python",
   "name": "python",
   "nbconvert_exporter": "python",
   "pygments_lexer": "ipython3",
   "version": "3.9.19"
  },
  "orig_nbformat": 4
 },
 "nbformat": 4,
 "nbformat_minor": 2
}
