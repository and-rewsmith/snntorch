{
 "cells": [
  {
   "cell_type": "code",
   "execution_count": 3,
   "metadata": {},
   "outputs": [
    {
     "name": "stdout",
     "output_type": "stream",
     "text": [
      "2.939875841140747\n"
     ]
    }
   ],
   "source": [
    "import torch\n",
    "import time\n",
    "import snntorch as snn\n",
    "\n",
    "lif = snn.Leaky(beta=0.9)\n",
    "\n",
    "num_steps = 20000\n",
    "\n",
    "x = torch.rand(num_steps)\n",
    "mem = torch.zeros(1)\n",
    "spk = torch.zeros(1)\n",
    "\n",
    "start_time = time.time()\n",
    "for step in range(num_steps):\n",
    "  spk, mem = lif(x[step], mem)\n",
    "\n",
    "end_time = time.time()\n",
    "\n",
    "print(f\"{end_time-start_time}\")"
   ]
  },
  {
   "cell_type": "code",
   "execution_count": null,
   "metadata": {},
   "outputs": [],
   "source": [
    "import torch\n",
    "import time\n",
    "import snntorch as snn\n",
    "\n",
    "lif = snn.Leaky(beta=0.9)\n",
    "\n",
    "num_steps = 20000\n",
    "\n",
    "x = torch.rand(num_steps)\n",
    "mem = torch.zeros(1)\n",
    "spk = torch.zeros(1)\n",
    "\n",
    "start_time = time.time()\n",
    "for step in range(num_steps):\n",
    "  spk, mem = lif(x[step], mem)\n",
    "\n",
    "end_time = time.time()\n",
    "\n",
    "print(f\"{end_time-start_time}\")"
   ]
  }
 ],
 "metadata": {
  "kernelspec": {
   "display_name": "env",
   "language": "python",
   "name": "python3"
  },
  "language_info": {
   "codemirror_mode": {
    "name": "ipython",
    "version": 3
   },
   "file_extension": ".py",
   "mimetype": "text/x-python",
   "name": "python",
   "nbconvert_exporter": "python",
   "pygments_lexer": "ipython3",
   "version": "3.9.19"
  },
  "orig_nbformat": 4
 },
 "nbformat": 4,
 "nbformat_minor": 2
}
